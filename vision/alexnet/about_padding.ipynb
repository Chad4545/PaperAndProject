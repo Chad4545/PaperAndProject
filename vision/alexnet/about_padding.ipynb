{
 "cells": [
  {
   "cell_type": "code",
   "execution_count": 22,
   "metadata": {},
   "outputs": [],
   "source": [
    "# (1) Importing dependency\n",
    "import keras\n",
    "from keras.models import Sequential, Model\n",
    "from keras.layers import *\n",
    "\n"
   ]
  },
  {
   "cell_type": "code",
   "execution_count": 4,
   "metadata": {},
   "outputs": [
    {
     "name": "stdout",
     "output_type": "stream",
     "text": [
      "_________________________________________________________________\n",
      "Layer (type)                 Output Shape              Param #   \n",
      "=================================================================\n",
      "conv2d_1 (Conv2D)            (None, 54, 54, 96)        34944     \n",
      "_________________________________________________________________\n",
      "activation_1 (Activation)    (None, 54, 54, 96)        0         \n",
      "=================================================================\n",
      "Total params: 34,944\n",
      "Trainable params: 34,944\n",
      "Non-trainable params: 0\n",
      "_________________________________________________________________\n"
     ]
    }
   ],
   "source": [
    "# 224x224  & vaild\n",
    "\n",
    "# test padding\n",
    "model = Sequential()\n",
    "\n",
    "# 1st Convolutional Layer\n",
    "model.add(Conv2D(filters=96, input_shape=(224,224,3), kernel_size=(11,11), strides=(4,4), padding='valid'))\n",
    "model.add(Activation('relu'))\n",
    "\n",
    "model.summary()"
   ]
  },
  {
   "cell_type": "code",
   "execution_count": 5,
   "metadata": {},
   "outputs": [
    {
     "name": "stdout",
     "output_type": "stream",
     "text": [
      "_________________________________________________________________\n",
      "Layer (type)                 Output Shape              Param #   \n",
      "=================================================================\n",
      "conv2d_2 (Conv2D)            (None, 56, 56, 96)        34944     \n",
      "_________________________________________________________________\n",
      "activation_2 (Activation)    (None, 56, 56, 96)        0         \n",
      "=================================================================\n",
      "Total params: 34,944\n",
      "Trainable params: 34,944\n",
      "Non-trainable params: 0\n",
      "_________________________________________________________________\n"
     ]
    }
   ],
   "source": [
    "# 224x224  & same\n",
    "\n",
    "# test padding\n",
    "model = Sequential()\n",
    "\n",
    "# 1st Convolutional Layer\n",
    "model.add(Conv2D(filters=96, input_shape=(224,224,3), kernel_size=(11,11), strides=(4,4), padding='same'))\n",
    "model.add(Activation('relu'))\n",
    "\n",
    "model.summary()"
   ]
  },
  {
   "cell_type": "code",
   "execution_count": 6,
   "metadata": {},
   "outputs": [
    {
     "name": "stdout",
     "output_type": "stream",
     "text": [
      "_________________________________________________________________\n",
      "Layer (type)                 Output Shape              Param #   \n",
      "=================================================================\n",
      "conv2d_3 (Conv2D)            (None, 57, 57, 96)        34944     \n",
      "_________________________________________________________________\n",
      "activation_3 (Activation)    (None, 57, 57, 96)        0         \n",
      "=================================================================\n",
      "Total params: 34,944\n",
      "Trainable params: 34,944\n",
      "Non-trainable params: 0\n",
      "_________________________________________________________________\n"
     ]
    }
   ],
   "source": [
    "# 227x227  & same\n",
    "\n",
    "\n",
    "# test padding\n",
    "model = Sequential()\n",
    "\n",
    "# 1st Convolutional Layer\n",
    "model.add(Conv2D(filters=96, input_shape=(227,227,3), kernel_size=(11,11), strides=(4,4), padding='same'))\n",
    "model.add(Activation('relu'))\n",
    "\n",
    "model.summary()"
   ]
  },
  {
   "cell_type": "code",
   "execution_count": 7,
   "metadata": {},
   "outputs": [
    {
     "name": "stdout",
     "output_type": "stream",
     "text": [
      "_________________________________________________________________\n",
      "Layer (type)                 Output Shape              Param #   \n",
      "=================================================================\n",
      "conv2d_4 (Conv2D)            (None, 55, 55, 96)        34944     \n",
      "_________________________________________________________________\n",
      "activation_4 (Activation)    (None, 55, 55, 96)        0         \n",
      "=================================================================\n",
      "Total params: 34,944\n",
      "Trainable params: 34,944\n",
      "Non-trainable params: 0\n",
      "_________________________________________________________________\n"
     ]
    }
   ],
   "source": [
    "# 227x227  & valid\n",
    "\n",
    "# test padding\n",
    "model = Sequential()\n",
    "\n",
    "# 1st Convolutional Layer\n",
    "model.add(Conv2D(filters=96, input_shape=(227,227,3), kernel_size=(11,11), strides=(4,4), padding='valid'))\n",
    "model.add(Activation('relu'))\n",
    "\n",
    "model.summary()"
   ]
  },
  {
   "cell_type": "code",
   "execution_count": 20,
   "metadata": {},
   "outputs": [
    {
     "name": "stdout",
     "output_type": "stream",
     "text": [
      "_________________________________________________________________\n",
      "Layer (type)                 Output Shape              Param #   \n",
      "=================================================================\n",
      "zero_padding2d_15 (ZeroPaddi (None, 227, 227, 3)       0         \n",
      "_________________________________________________________________\n",
      "conv2d_26 (Conv2D)           (None, 55, 55, 96)        34944     \n",
      "_________________________________________________________________\n",
      "activation_27 (Activation)   (None, 55, 55, 96)        0         \n",
      "=================================================================\n",
      "Total params: 34,944\n",
      "Trainable params: 34,944\n",
      "Non-trainable params: 0\n",
      "_________________________________________________________________\n"
     ]
    }
   ],
   "source": [
    "# 위 아래 1:2  // 왼쪽 오른쪽 1:2 패딩 \n",
    "\n",
    "# test padding\n",
    "model = Sequential()\n",
    "\n",
    "# 1st Convolutional Layer\n",
    "model.add(ZeroPadding2D(((1,2),(1,2)), input_shape=(224,224,3)))\n",
    "model.add(Conv2D(filters=96, kernel_size=(11,11), strides=(4,4)))\n",
    "model.add(Activation('relu'))\n",
    "\n",
    "model.summary()"
   ]
  },
  {
   "cell_type": "code",
   "execution_count": null,
   "metadata": {},
   "outputs": [],
   "source": []
  },
  {
   "cell_type": "code",
   "execution_count": null,
   "metadata": {},
   "outputs": [],
   "source": []
  },
  {
   "cell_type": "code",
   "execution_count": null,
   "metadata": {},
   "outputs": [],
   "source": [
    "TwoLayerNet = Sequential()\n",
    "\n",
    "# input layer\n",
    "TwoLayerNet.add(Dense(100,activation='relu',input_shape=(32,)))\n",
    "\n",
    "TwoLayerNet.add(Dense(50,activation='relu'))\n",
    "\n",
    "TwoLayerNet.add(Dense(10,activation='softmax'))\n",
    "\n",
    "TwoLayerNet.summary()"
   ]
  },
  {
   "cell_type": "code",
   "execution_count": 37,
   "metadata": {},
   "outputs": [
    {
     "name": "stdout",
     "output_type": "stream",
     "text": [
      "_________________________________________________________________\n",
      "Layer (type)                 Output Shape              Param #   \n",
      "=================================================================\n",
      "dense_17 (Dense)             (None, 100)               3300      \n",
      "_________________________________________________________________\n",
      "dense_18 (Dense)             (None, 50)                5050      \n",
      "_________________________________________________________________\n",
      "dense_19 (Dense)             (None, 10)                510       \n",
      "=================================================================\n",
      "Total params: 8,860\n",
      "Trainable params: 8,860\n",
      "Non-trainable params: 0\n",
      "_________________________________________________________________\n"
     ]
    }
   ],
   "source": [
    "TwoLayerNet = Sequential()\n",
    "\n",
    "# input layer\n",
    "TwoLayerNet.add(Dense(100,activation='relu',input_shape=(32,)))\n",
    "TwoLayerNet.add(Dense(50,activation='relu'))\n",
    "TwoLayerNet.add(Dense(10,activation='softmax'))\n",
    "TwoLayerNet.summary()\n",
    "\n"
   ]
  },
  {
   "cell_type": "code",
   "execution_count": 38,
   "metadata": {},
   "outputs": [],
   "source": [
    "import matplotlib.pyplot as plt\n",
    "from IPython.display import SVG\n",
    "from keras.utils import plot_model\n",
    "from keras.utils.vis_utils import model_to_dot\n",
    "%matplotlib inline"
   ]
  },
  {
   "cell_type": "code",
   "execution_count": 40,
   "metadata": {},
   "outputs": [
    {
     "data": {
      "image/svg+xml": [
       "<svg height=\"387pt\" viewBox=\"0.00 0.00 233.00 387.00\" width=\"233pt\" xmlns=\"http://www.w3.org/2000/svg\" xmlns:xlink=\"http://www.w3.org/1999/xlink\">\n",
       "<g class=\"graph\" id=\"graph0\" transform=\"scale(1 1) rotate(0) translate(4 383)\">\n",
       "<title>G</title>\n",
       "<polygon fill=\"#ffffff\" points=\"-4,4 -4,-383 229,-383 229,4 -4,4\" stroke=\"transparent\"/>\n",
       "<!-- 4653524304 -->\n",
       "<g class=\"node\" id=\"node1\">\n",
       "<title>4653524304</title>\n",
       "<polygon fill=\"none\" points=\"0,-332.5 0,-378.5 225,-378.5 225,-332.5 0,-332.5\" stroke=\"#000000\"/>\n",
       "<text fill=\"#000000\" font-family=\"Times,serif\" font-size=\"14.00\" text-anchor=\"middle\" x=\"58.5\" y=\"-351.8\">input_layer: InputLayer</text>\n",
       "<polyline fill=\"none\" points=\"117,-332.5 117,-378.5 \" stroke=\"#000000\"/>\n",
       "<text fill=\"#000000\" font-family=\"Times,serif\" font-size=\"14.00\" text-anchor=\"middle\" x=\"140\" y=\"-363.3\">input:</text>\n",
       "<polyline fill=\"none\" points=\"117,-355.5 163,-355.5 \" stroke=\"#000000\"/>\n",
       "<text fill=\"#000000\" font-family=\"Times,serif\" font-size=\"14.00\" text-anchor=\"middle\" x=\"140\" y=\"-340.3\">output:</text>\n",
       "<polyline fill=\"none\" points=\"163,-332.5 163,-378.5 \" stroke=\"#000000\"/>\n",
       "<text fill=\"#000000\" font-family=\"Times,serif\" font-size=\"14.00\" text-anchor=\"middle\" x=\"194\" y=\"-363.3\">(None, 32)</text>\n",
       "<polyline fill=\"none\" points=\"163,-355.5 225,-355.5 \" stroke=\"#000000\"/>\n",
       "<text fill=\"#000000\" font-family=\"Times,serif\" font-size=\"14.00\" text-anchor=\"middle\" x=\"194\" y=\"-340.3\">(None, 32)</text>\n",
       "</g>\n",
       "<!-- 4653524416 -->\n",
       "<g class=\"node\" id=\"node2\">\n",
       "<title>4653524416</title>\n",
       "<polygon fill=\"none\" points=\"12.5,-249.5 12.5,-295.5 212.5,-295.5 212.5,-249.5 12.5,-249.5\" stroke=\"#000000\"/>\n",
       "<text fill=\"#000000\" font-family=\"Times,serif\" font-size=\"14.00\" text-anchor=\"middle\" x=\"56\" y=\"-268.8\">hidden_1: Dense</text>\n",
       "<polyline fill=\"none\" points=\"99.5,-249.5 99.5,-295.5 \" stroke=\"#000000\"/>\n",
       "<text fill=\"#000000\" font-family=\"Times,serif\" font-size=\"14.00\" text-anchor=\"middle\" x=\"122.5\" y=\"-280.3\">input:</text>\n",
       "<polyline fill=\"none\" points=\"99.5,-272.5 145.5,-272.5 \" stroke=\"#000000\"/>\n",
       "<text fill=\"#000000\" font-family=\"Times,serif\" font-size=\"14.00\" text-anchor=\"middle\" x=\"122.5\" y=\"-257.3\">output:</text>\n",
       "<polyline fill=\"none\" points=\"145.5,-249.5 145.5,-295.5 \" stroke=\"#000000\"/>\n",
       "<text fill=\"#000000\" font-family=\"Times,serif\" font-size=\"14.00\" text-anchor=\"middle\" x=\"179\" y=\"-280.3\">(None, 32)</text>\n",
       "<polyline fill=\"none\" points=\"145.5,-272.5 212.5,-272.5 \" stroke=\"#000000\"/>\n",
       "<text fill=\"#000000\" font-family=\"Times,serif\" font-size=\"14.00\" text-anchor=\"middle\" x=\"179\" y=\"-257.3\">(None, 100)</text>\n",
       "</g>\n",
       "<!-- 4653524304&#45;&gt;4653524416 -->\n",
       "<g class=\"edge\" id=\"edge1\">\n",
       "<title>4653524304-&gt;4653524416</title>\n",
       "<path d=\"M112.5,-332.3799C112.5,-324.1745 112.5,-314.7679 112.5,-305.8786\" fill=\"none\" stroke=\"#000000\"/>\n",
       "<polygon fill=\"#000000\" points=\"116.0001,-305.784 112.5,-295.784 109.0001,-305.784 116.0001,-305.784\" stroke=\"#000000\"/>\n",
       "</g>\n",
       "<!-- 4653525536 -->\n",
       "<g class=\"node\" id=\"node3\">\n",
       "<title>4653525536</title>\n",
       "<polygon fill=\"none\" points=\"12.5,-166.5 12.5,-212.5 212.5,-212.5 212.5,-166.5 12.5,-166.5\" stroke=\"#000000\"/>\n",
       "<text fill=\"#000000\" font-family=\"Times,serif\" font-size=\"14.00\" text-anchor=\"middle\" x=\"56\" y=\"-185.8\">hidden_2: Dense</text>\n",
       "<polyline fill=\"none\" points=\"99.5,-166.5 99.5,-212.5 \" stroke=\"#000000\"/>\n",
       "<text fill=\"#000000\" font-family=\"Times,serif\" font-size=\"14.00\" text-anchor=\"middle\" x=\"122.5\" y=\"-197.3\">input:</text>\n",
       "<polyline fill=\"none\" points=\"99.5,-189.5 145.5,-189.5 \" stroke=\"#000000\"/>\n",
       "<text fill=\"#000000\" font-family=\"Times,serif\" font-size=\"14.00\" text-anchor=\"middle\" x=\"122.5\" y=\"-174.3\">output:</text>\n",
       "<polyline fill=\"none\" points=\"145.5,-166.5 145.5,-212.5 \" stroke=\"#000000\"/>\n",
       "<text fill=\"#000000\" font-family=\"Times,serif\" font-size=\"14.00\" text-anchor=\"middle\" x=\"179\" y=\"-197.3\">(None, 100)</text>\n",
       "<polyline fill=\"none\" points=\"145.5,-189.5 212.5,-189.5 \" stroke=\"#000000\"/>\n",
       "<text fill=\"#000000\" font-family=\"Times,serif\" font-size=\"14.00\" text-anchor=\"middle\" x=\"179\" y=\"-174.3\">(None, 50)</text>\n",
       "</g>\n",
       "<!-- 4653524416&#45;&gt;4653525536 -->\n",
       "<g class=\"edge\" id=\"edge2\">\n",
       "<title>4653524416-&gt;4653525536</title>\n",
       "<path d=\"M112.5,-249.3799C112.5,-241.1745 112.5,-231.7679 112.5,-222.8786\" fill=\"none\" stroke=\"#000000\"/>\n",
       "<polygon fill=\"#000000\" points=\"116.0001,-222.784 112.5,-212.784 109.0001,-222.784 116.0001,-222.784\" stroke=\"#000000\"/>\n",
       "</g>\n",
       "<!-- 4653525424 -->\n",
       "<g class=\"node\" id=\"node4\">\n",
       "<title>4653525424</title>\n",
       "<polygon fill=\"none\" points=\"15,-83.5 15,-129.5 210,-129.5 210,-83.5 15,-83.5\" stroke=\"#000000\"/>\n",
       "<text fill=\"#000000\" font-family=\"Times,serif\" font-size=\"14.00\" text-anchor=\"middle\" x=\"58.5\" y=\"-102.8\">hidden_3: Dense</text>\n",
       "<polyline fill=\"none\" points=\"102,-83.5 102,-129.5 \" stroke=\"#000000\"/>\n",
       "<text fill=\"#000000\" font-family=\"Times,serif\" font-size=\"14.00\" text-anchor=\"middle\" x=\"125\" y=\"-114.3\">input:</text>\n",
       "<polyline fill=\"none\" points=\"102,-106.5 148,-106.5 \" stroke=\"#000000\"/>\n",
       "<text fill=\"#000000\" font-family=\"Times,serif\" font-size=\"14.00\" text-anchor=\"middle\" x=\"125\" y=\"-91.3\">output:</text>\n",
       "<polyline fill=\"none\" points=\"148,-83.5 148,-129.5 \" stroke=\"#000000\"/>\n",
       "<text fill=\"#000000\" font-family=\"Times,serif\" font-size=\"14.00\" text-anchor=\"middle\" x=\"179\" y=\"-114.3\">(None, 50)</text>\n",
       "<polyline fill=\"none\" points=\"148,-106.5 210,-106.5 \" stroke=\"#000000\"/>\n",
       "<text fill=\"#000000\" font-family=\"Times,serif\" font-size=\"14.00\" text-anchor=\"middle\" x=\"179\" y=\"-91.3\">(None, 10)</text>\n",
       "</g>\n",
       "<!-- 4653525536&#45;&gt;4653525424 -->\n",
       "<g class=\"edge\" id=\"edge3\">\n",
       "<title>4653525536-&gt;4653525424</title>\n",
       "<path d=\"M112.5,-166.3799C112.5,-158.1745 112.5,-148.7679 112.5,-139.8786\" fill=\"none\" stroke=\"#000000\"/>\n",
       "<polygon fill=\"#000000\" points=\"116.0001,-139.784 112.5,-129.784 109.0001,-139.784 116.0001,-139.784\" stroke=\"#000000\"/>\n",
       "</g>\n",
       "<!-- 103625287888 -->\n",
       "<g class=\"node\" id=\"node5\">\n",
       "<title>103625287888</title>\n",
       "<polygon fill=\"none\" points=\"15.5,-.5 15.5,-46.5 209.5,-46.5 209.5,-.5 15.5,-.5\" stroke=\"#000000\"/>\n",
       "<text fill=\"#000000\" font-family=\"Times,serif\" font-size=\"14.00\" text-anchor=\"middle\" x=\"58.5\" y=\"-19.8\">classifier: Dense</text>\n",
       "<polyline fill=\"none\" points=\"101.5,-.5 101.5,-46.5 \" stroke=\"#000000\"/>\n",
       "<text fill=\"#000000\" font-family=\"Times,serif\" font-size=\"14.00\" text-anchor=\"middle\" x=\"124.5\" y=\"-31.3\">input:</text>\n",
       "<polyline fill=\"none\" points=\"101.5,-23.5 147.5,-23.5 \" stroke=\"#000000\"/>\n",
       "<text fill=\"#000000\" font-family=\"Times,serif\" font-size=\"14.00\" text-anchor=\"middle\" x=\"124.5\" y=\"-8.3\">output:</text>\n",
       "<polyline fill=\"none\" points=\"147.5,-.5 147.5,-46.5 \" stroke=\"#000000\"/>\n",
       "<text fill=\"#000000\" font-family=\"Times,serif\" font-size=\"14.00\" text-anchor=\"middle\" x=\"178.5\" y=\"-31.3\">(None, 10)</text>\n",
       "<polyline fill=\"none\" points=\"147.5,-23.5 209.5,-23.5 \" stroke=\"#000000\"/>\n",
       "<text fill=\"#000000\" font-family=\"Times,serif\" font-size=\"14.00\" text-anchor=\"middle\" x=\"178.5\" y=\"-8.3\">(None, 10)</text>\n",
       "</g>\n",
       "<!-- 4653525424&#45;&gt;103625287888 -->\n",
       "<g class=\"edge\" id=\"edge4\">\n",
       "<title>4653525424-&gt;103625287888</title>\n",
       "<path d=\"M112.5,-83.3799C112.5,-75.1745 112.5,-65.7679 112.5,-56.8786\" fill=\"none\" stroke=\"#000000\"/>\n",
       "<polygon fill=\"#000000\" points=\"116.0001,-56.784 112.5,-46.784 109.0001,-56.784 116.0001,-56.784\" stroke=\"#000000\"/>\n",
       "</g>\n",
       "</g>\n",
       "</svg>"
      ],
      "text/plain": [
       "<IPython.core.display.SVG object>"
      ]
     },
     "execution_count": 40,
     "metadata": {},
     "output_type": "execute_result"
    }
   ],
   "source": [
    "SVG(model_to_dot(TwoLayerNet2, show_shapes=True).create(prog='dot', format='svg'))"
   ]
  },
  {
   "cell_type": "code",
   "execution_count": null,
   "metadata": {},
   "outputs": [],
   "source": []
  }
 ],
 "metadata": {
  "kernelspec": {
   "display_name": "Python [conda env:anaconda3]",
   "language": "python",
   "name": "conda-env-anaconda3-py"
  },
  "language_info": {
   "codemirror_mode": {
    "name": "ipython",
    "version": 3
   },
   "file_extension": ".py",
   "mimetype": "text/x-python",
   "name": "python",
   "nbconvert_exporter": "python",
   "pygments_lexer": "ipython3",
   "version": "3.6.4"
  }
 },
 "nbformat": 4,
 "nbformat_minor": 2
}
